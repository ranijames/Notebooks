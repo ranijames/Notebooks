{
 "cells": [
  {
   "cell_type": "code",
   "execution_count": null,
   "metadata": {
    "collapsed": true
   },
   "outputs": [],
   "source": [
    "import vcf\n",
    "import vcf.utils\n",
    "import pandas\n",
    "import os\n",
    "import pandas as pd\n",
    "import itertools\n",
    "from itertools import groupby\n",
    "from numpy import *\n",
    "import operator\n",
    "import seaborn as sns\n",
    "import numpy as np\n",
    "import matplotlib as mpl\n",
    "import matplotlib.pyplot as plt\n",
    "import pandas as pd\n",
    "import numpy as np\n",
    "import matplotlib\n",
    "import math\n",
    "from statistics import mean\n",
    "from ggplot import *\n",
    "from pandas.core.reshape import melt, pivot\n",
    "import matplotlib.pyplot \n",
    "from pandas import *  \n",
    "import glob\n",
    "%matplotlib inline"
   ]
  },
  {
   "cell_type": "code",
   "execution_count": null,
   "metadata": {
    "collapsed": true
   },
   "outputs": [],
   "source": [
    "path         = '/Results/' \n",
    "files        = os.listdir(path)\n",
    "results      = [os.path.join(path,i) for i in files if i.endswith('_alone')]\n",
    "results"
   ]
  },
  {
   "cell_type": "code",
   "execution_count": null,
   "metadata": {
    "collapsed": true
   },
   "outputs": [],
   "source": [
    "def DEfilter(df):\n",
    "    Up_regulted = df.query('logFC >= 0.58 and FDR <= 0.05')\n",
    "    Down_regulated = df.query('logFC <= -0.58 and FDR <= 0.05')\n",
    "    DE = pd.concat([Up_regulted, Down_regulated])\n",
    "    return DE\n",
    "\n",
    "for filename in LIMMA:\n",
    "    df = pd.read_csv(filename, sep='\\t', header=0)\n",
    "    df.rename(columns={'Row.names':'Geneid','adj.P.Val':'FDR','P.Value':'Pval'},inplace=True)\n",
    "    DE = DEfilter(df)\n",
    "    lncRNA    = pd.merge(DE,ref_chr_pos_lncRNA,on='Geneid')\n",
    "    Annon_all = pd.merge(DE,ref_chr_pos,on='Geneid')\n",
    "    df_annon=pd.merge(df,ref_chr_pos,on='Geneid')\n",
    "    name = os.path.basename(os.path.normpath(filename))\n",
    "    dirname=os.path.dirname(os.path.normpath(filename))\n",
    "    lncRNA.to_csv(dirname +'/lncRNA_0.58_FDR_' + name, sep='\\t',index=False)\n",
    "    Annon_all.to_csv(dirname +'/Annon_0.58_FDR_' + name, sep='\\t',index=False)\n",
    "    df_annon.to_csv(dirname+'/All_Annotated_FDR_'+ name,sep='\\t',index=False)"
   ]
  }
 ],
 "metadata": {
  "kernelspec": {
   "display_name": "Python 3",
   "language": "python",
   "name": "python3"
  },
  "language_info": {
   "codemirror_mode": {
    "name": "ipython",
    "version": 3
   },
   "file_extension": ".py",
   "mimetype": "text/x-python",
   "name": "python",
   "nbconvert_exporter": "python",
   "pygments_lexer": "ipython3",
   "version": "3.4.4"
  }
 },
 "nbformat": 4,
 "nbformat_minor": 0
}
